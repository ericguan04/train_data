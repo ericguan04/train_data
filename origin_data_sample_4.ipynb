{
 "cells": [
  {
   "cell_type": "markdown",
   "metadata": {},
   "source": [
    "# Exploring Hunter, CCNY, Medgar, NYU, and Columbia Origin Data\n",
    "* 2021 - 2024"
   ]
  },
  {
   "cell_type": "code",
   "execution_count": 43,
   "metadata": {},
   "outputs": [],
   "source": [
    "import pandas as pd\n",
    "\n",
    "columbia1 = pd.read_csv(\"datasets/columbia/MTA_Subway_Origin-Destination_2021_Columbia_Origin.csv\")\n",
    "columbia2 = pd.read_csv(\"datasets/columbia/MTA_Subway_Origin-Destination_2022_Columbia_Origin.csv\")\n",
    "columbia3 = pd.read_csv(\"datasets/columbia/MTA_Subway_Origin-Destination_2023_Columbia_Origin.csv\")\n",
    "columbia4 = pd.read_csv(\"datasets/columbia/MTA_Subway_Origin-Destination_2024_Columbia_Origin.csv\")\n",
    "columbia_total = pd.concat([columbia1, columbia2, columbia3, columbia4])\n"
   ]
  },
  {
   "cell_type": "code",
   "execution_count": 44,
   "metadata": {},
   "outputs": [],
   "source": [
    "nyu1 = pd.read_csv(\"datasets/nyu/MTA_Subway_Origin-Destination_2021_NYU_Origin.csv\")\n",
    "nyu2 = pd.read_csv(\"datasets/nyu/MTA_Subway_Origin-Destination_2022_NYU_Origin.csv\")\n",
    "nyu3 = pd.read_csv(\"datasets/nyu/MTA_Subway_Origin-Destination_2023_NYU_Origin.csv\")\n",
    "nyu4 = pd.read_csv(\"datasets/nyu/MTA_Subway_Origin-Destination_2024_NYU_Origin.csv\")\n",
    "nyu_total = pd.concat([nyu1, nyu2, nyu3, nyu4])\n"
   ]
  },
  {
   "cell_type": "code",
   "execution_count": 45,
   "metadata": {},
   "outputs": [],
   "source": [
    "hunter1 = pd.read_csv(\"datasets/hunter/MTA_Subway_Origin-Destination_2021_Hunter_Origin.csv\")\n",
    "hunter2 = pd.read_csv(\"datasets/hunter/MTA_Subway_Origin-Destination_2022_Hunter_Origin.csv\")\n",
    "hunter3 = pd.read_csv(\"datasets/hunter/MTA_Subway_Origin-Destination_2023_Hunter_Origin.csv\")\n",
    "hunter4 = pd.read_csv(\"datasets/hunter/MTA_Subway_Origin-Destination_2024_Hunter_Origin.csv\")\n",
    "hunter_total = pd.concat([hunter1, hunter2, hunter3, hunter4])"
   ]
  },
  {
   "cell_type": "code",
   "execution_count": 46,
   "metadata": {},
   "outputs": [],
   "source": [
    "ccny1 = pd.read_csv(\"datasets/ccny/MTA_Subway_Origin-Destination_2021_CCNY_Origin.csv\")\n",
    "ccny2 = pd.read_csv(\"datasets/ccny/MTA_Subway_Origin-Destination_2022_CCNY_Origin.csv\")\n",
    "ccny3 = pd.read_csv(\"datasets/ccny/MTA_Subway_Origin-Destination_2023_CCNY_Origin.csv\")\n",
    "ccny4 = pd.read_csv(\"datasets/ccny/MTA_Subway_Origin-Destination_2024_CCNY_Origin.csv\")\n",
    "ccny_total = pd.concat([ccny1, ccny2, ccny3, ccny4])"
   ]
  },
  {
   "cell_type": "code",
   "execution_count": 47,
   "metadata": {},
   "outputs": [],
   "source": [
    "medgar1 = pd.read_csv(\"datasets/medgar/MTA_Subway_Origin-Destination_2021_Medgar_Origin.csv\")\n",
    "medgar2 = pd.read_csv(\"datasets/medgar/MTA_Subway_Origin-Destination_2022_Medgar_Origin.csv\")\n",
    "medgar3 = pd.read_csv(\"datasets/medgar/MTA_Subway_Origin-Destination_2023_Medgar_Origin.csv\")\n",
    "medgar4 = pd.read_csv(\"datasets/medgar/MTA_Subway_Origin-Destination_2024_Medgar_Origin.csv\")\n",
    "medgar_total = pd.concat([medgar1, medgar2, medgar3, medgar4])"
   ]
  },
  {
   "cell_type": "code",
   "execution_count": 48,
   "metadata": {},
   "outputs": [],
   "source": [
    "hunter_total_grouped = hunter_total.groupby([\"Destination Station Complex ID\", \"Destination Station Complex Name\"]).size().reset_index(name='Count')\n",
    "nyu_total_grouped = nyu_total.groupby([\"Destination Station Complex ID\", \"Destination Station Complex Name\"]).size().reset_index(name='Count')\n",
    "columbia_total_grouped = columbia_total.groupby([\"Destination Station Complex ID\", \"Destination Station Complex Name\"]).size().reset_index(name='Count')\n",
    "ccny_total_grouped = ccny_total.groupby([\"Destination Station Complex ID\", \"Destination Station Complex Name\"]).size().reset_index(name='Count')\n",
    "medgar_total_grouped = medgar_total.groupby([\"Destination Station Complex ID\", \"Destination Station Complex Name\"]).size().reset_index(name='Count')"
   ]
  },
  {
   "cell_type": "code",
   "execution_count": 49,
   "metadata": {},
   "outputs": [],
   "source": [
    "hunter_stations_of_interest = hunter_total_grouped[(hunter_total_grouped[\"Destination Station Complex ID\"] == 135) | \n",
    "                                                   (hunter_total_grouped[\"Destination Station Complex ID\"] == 209) |\n",
    "                                                   (hunter_total_grouped[\"Destination Station Complex ID\"] == 196)]\n",
    "\n",
    "nyu_stations_of_interest = nyu_total_grouped[(nyu_total_grouped[\"Destination Station Complex ID\"] == 135) | \n",
    "                                             (nyu_total_grouped[\"Destination Station Complex ID\"] == 209) |\n",
    "                                             (nyu_total_grouped[\"Destination Station Complex ID\"] == 196)]\n",
    "\n",
    "columbia_stations_of_interest = columbia_total_grouped[(columbia_total_grouped[\"Destination Station Complex ID\"] == 135) | \n",
    "                                                       (columbia_total_grouped[\"Destination Station Complex ID\"] == 209) |\n",
    "                                                       (columbia_total_grouped[\"Destination Station Complex ID\"] == 196)]\n",
    "\n",
    "ccny_stations_of_interest = ccny_total_grouped[(ccny_total_grouped[\"Destination Station Complex ID\"] == 135) | \n",
    "                                               (ccny_total_grouped[\"Destination Station Complex ID\"] == 209) |\n",
    "                                               (ccny_total_grouped[\"Destination Station Complex ID\"] == 196)]\n",
    "\n",
    "medgar_stations_of_interest = medgar_total_grouped[(medgar_total_grouped[\"Destination Station Complex ID\"] == 135) | \n",
    "                                                   (medgar_total_grouped[\"Destination Station Complex ID\"] == 209) |\n",
    "                                                   (medgar_total_grouped[\"Destination Station Complex ID\"] == 196)]"
   ]
  },
  {
   "cell_type": "code",
   "execution_count": 50,
   "metadata": {},
   "outputs": [
    {
     "data": {
      "text/html": [
       "<div>\n",
       "<style scoped>\n",
       "    .dataframe tbody tr th:only-of-type {\n",
       "        vertical-align: middle;\n",
       "    }\n",
       "\n",
       "    .dataframe tbody tr th {\n",
       "        vertical-align: top;\n",
       "    }\n",
       "\n",
       "    .dataframe thead th {\n",
       "        text-align: right;\n",
       "    }\n",
       "</style>\n",
       "<table border=\"1\" class=\"dataframe\">\n",
       "  <thead>\n",
       "    <tr style=\"text-align: right;\">\n",
       "      <th></th>\n",
       "      <th>Destination Station Complex ID</th>\n",
       "      <th>Destination Station Complex Name</th>\n",
       "      <th>Count</th>\n",
       "    </tr>\n",
       "  </thead>\n",
       "  <tbody>\n",
       "    <tr>\n",
       "      <th>107</th>\n",
       "      <td>135</td>\n",
       "      <td>Livonia Av (L)</td>\n",
       "      <td>1928</td>\n",
       "    </tr>\n",
       "    <tr>\n",
       "      <th>155</th>\n",
       "      <td>196</td>\n",
       "      <td>Aqueduct Racetrack (A)</td>\n",
       "      <td>695</td>\n",
       "    </tr>\n",
       "    <tr>\n",
       "      <th>168</th>\n",
       "      <td>209</td>\n",
       "      <td>Far Rockaway-Mott Av (A)</td>\n",
       "      <td>2415</td>\n",
       "    </tr>\n",
       "  </tbody>\n",
       "</table>\n",
       "</div>"
      ],
      "text/plain": [
       "     Destination Station Complex ID Destination Station Complex Name  Count\n",
       "107                             135                   Livonia Av (L)   1928\n",
       "155                             196           Aqueduct Racetrack (A)    695\n",
       "168                             209         Far Rockaway-Mott Av (A)   2415"
      ]
     },
     "execution_count": 50,
     "metadata": {},
     "output_type": "execute_result"
    }
   ],
   "source": [
    "hunter_stations_of_interest"
   ]
  },
  {
   "cell_type": "code",
   "execution_count": 51,
   "metadata": {},
   "outputs": [
    {
     "data": {
      "text/html": [
       "<div>\n",
       "<style scoped>\n",
       "    .dataframe tbody tr th:only-of-type {\n",
       "        vertical-align: middle;\n",
       "    }\n",
       "\n",
       "    .dataframe tbody tr th {\n",
       "        vertical-align: top;\n",
       "    }\n",
       "\n",
       "    .dataframe thead th {\n",
       "        text-align: right;\n",
       "    }\n",
       "</style>\n",
       "<table border=\"1\" class=\"dataframe\">\n",
       "  <thead>\n",
       "    <tr style=\"text-align: right;\">\n",
       "      <th></th>\n",
       "      <th>Destination Station Complex ID</th>\n",
       "      <th>Destination Station Complex Name</th>\n",
       "      <th>Count</th>\n",
       "    </tr>\n",
       "  </thead>\n",
       "  <tbody>\n",
       "    <tr>\n",
       "      <th>107</th>\n",
       "      <td>135</td>\n",
       "      <td>Livonia Av (L)</td>\n",
       "      <td>512</td>\n",
       "    </tr>\n",
       "    <tr>\n",
       "      <th>154</th>\n",
       "      <td>196</td>\n",
       "      <td>Aqueduct Racetrack (A)</td>\n",
       "      <td>392</td>\n",
       "    </tr>\n",
       "    <tr>\n",
       "      <th>167</th>\n",
       "      <td>209</td>\n",
       "      <td>Far Rockaway-Mott Av (A)</td>\n",
       "      <td>830</td>\n",
       "    </tr>\n",
       "  </tbody>\n",
       "</table>\n",
       "</div>"
      ],
      "text/plain": [
       "     Destination Station Complex ID Destination Station Complex Name  Count\n",
       "107                             135                   Livonia Av (L)    512\n",
       "154                             196           Aqueduct Racetrack (A)    392\n",
       "167                             209         Far Rockaway-Mott Av (A)    830"
      ]
     },
     "execution_count": 51,
     "metadata": {},
     "output_type": "execute_result"
    }
   ],
   "source": [
    "ccny_stations_of_interest"
   ]
  },
  {
   "cell_type": "code",
   "execution_count": 52,
   "metadata": {},
   "outputs": [
    {
     "data": {
      "text/html": [
       "<div>\n",
       "<style scoped>\n",
       "    .dataframe tbody tr th:only-of-type {\n",
       "        vertical-align: middle;\n",
       "    }\n",
       "\n",
       "    .dataframe tbody tr th {\n",
       "        vertical-align: top;\n",
       "    }\n",
       "\n",
       "    .dataframe thead th {\n",
       "        text-align: right;\n",
       "    }\n",
       "</style>\n",
       "<table border=\"1\" class=\"dataframe\">\n",
       "  <thead>\n",
       "    <tr style=\"text-align: right;\">\n",
       "      <th></th>\n",
       "      <th>Destination Station Complex ID</th>\n",
       "      <th>Destination Station Complex Name</th>\n",
       "      <th>Count</th>\n",
       "    </tr>\n",
       "  </thead>\n",
       "  <tbody>\n",
       "    <tr>\n",
       "      <th>107</th>\n",
       "      <td>135</td>\n",
       "      <td>Livonia Av (L)</td>\n",
       "      <td>553</td>\n",
       "    </tr>\n",
       "    <tr>\n",
       "      <th>154</th>\n",
       "      <td>196</td>\n",
       "      <td>Aqueduct Racetrack (A)</td>\n",
       "      <td>151</td>\n",
       "    </tr>\n",
       "    <tr>\n",
       "      <th>167</th>\n",
       "      <td>209</td>\n",
       "      <td>Far Rockaway-Mott Av (A)</td>\n",
       "      <td>526</td>\n",
       "    </tr>\n",
       "  </tbody>\n",
       "</table>\n",
       "</div>"
      ],
      "text/plain": [
       "     Destination Station Complex ID Destination Station Complex Name  Count\n",
       "107                             135                   Livonia Av (L)    553\n",
       "154                             196           Aqueduct Racetrack (A)    151\n",
       "167                             209         Far Rockaway-Mott Av (A)    526"
      ]
     },
     "execution_count": 52,
     "metadata": {},
     "output_type": "execute_result"
    }
   ],
   "source": [
    "medgar_stations_of_interest"
   ]
  },
  {
   "cell_type": "code",
   "execution_count": 53,
   "metadata": {},
   "outputs": [
    {
     "data": {
      "text/html": [
       "<div>\n",
       "<style scoped>\n",
       "    .dataframe tbody tr th:only-of-type {\n",
       "        vertical-align: middle;\n",
       "    }\n",
       "\n",
       "    .dataframe tbody tr th {\n",
       "        vertical-align: top;\n",
       "    }\n",
       "\n",
       "    .dataframe thead th {\n",
       "        text-align: right;\n",
       "    }\n",
       "</style>\n",
       "<table border=\"1\" class=\"dataframe\">\n",
       "  <thead>\n",
       "    <tr style=\"text-align: right;\">\n",
       "      <th></th>\n",
       "      <th>Destination Station Complex ID</th>\n",
       "      <th>Destination Station Complex Name</th>\n",
       "      <th>Count</th>\n",
       "    </tr>\n",
       "  </thead>\n",
       "  <tbody>\n",
       "    <tr>\n",
       "      <th>106</th>\n",
       "      <td>135</td>\n",
       "      <td>Livonia Av (L)</td>\n",
       "      <td>694</td>\n",
       "    </tr>\n",
       "    <tr>\n",
       "      <th>154</th>\n",
       "      <td>196</td>\n",
       "      <td>Aqueduct Racetrack (A)</td>\n",
       "      <td>171</td>\n",
       "    </tr>\n",
       "    <tr>\n",
       "      <th>167</th>\n",
       "      <td>209</td>\n",
       "      <td>Far Rockaway-Mott Av (A)</td>\n",
       "      <td>631</td>\n",
       "    </tr>\n",
       "  </tbody>\n",
       "</table>\n",
       "</div>"
      ],
      "text/plain": [
       "     Destination Station Complex ID Destination Station Complex Name  Count\n",
       "106                             135                   Livonia Av (L)    694\n",
       "154                             196           Aqueduct Racetrack (A)    171\n",
       "167                             209         Far Rockaway-Mott Av (A)    631"
      ]
     },
     "execution_count": 53,
     "metadata": {},
     "output_type": "execute_result"
    }
   ],
   "source": [
    "nyu_stations_of_interest"
   ]
  },
  {
   "cell_type": "code",
   "execution_count": 54,
   "metadata": {},
   "outputs": [
    {
     "data": {
      "text/html": [
       "<div>\n",
       "<style scoped>\n",
       "    .dataframe tbody tr th:only-of-type {\n",
       "        vertical-align: middle;\n",
       "    }\n",
       "\n",
       "    .dataframe tbody tr th {\n",
       "        vertical-align: top;\n",
       "    }\n",
       "\n",
       "    .dataframe thead th {\n",
       "        text-align: right;\n",
       "    }\n",
       "</style>\n",
       "<table border=\"1\" class=\"dataframe\">\n",
       "  <thead>\n",
       "    <tr style=\"text-align: right;\">\n",
       "      <th></th>\n",
       "      <th>Destination Station Complex ID</th>\n",
       "      <th>Destination Station Complex Name</th>\n",
       "      <th>Count</th>\n",
       "    </tr>\n",
       "  </thead>\n",
       "  <tbody>\n",
       "    <tr>\n",
       "      <th>107</th>\n",
       "      <td>135</td>\n",
       "      <td>Livonia Av (L)</td>\n",
       "      <td>579</td>\n",
       "    </tr>\n",
       "    <tr>\n",
       "      <th>154</th>\n",
       "      <td>196</td>\n",
       "      <td>Aqueduct Racetrack (A)</td>\n",
       "      <td>217</td>\n",
       "    </tr>\n",
       "    <tr>\n",
       "      <th>167</th>\n",
       "      <td>209</td>\n",
       "      <td>Far Rockaway-Mott Av (A)</td>\n",
       "      <td>893</td>\n",
       "    </tr>\n",
       "  </tbody>\n",
       "</table>\n",
       "</div>"
      ],
      "text/plain": [
       "     Destination Station Complex ID Destination Station Complex Name  Count\n",
       "107                             135                   Livonia Av (L)    579\n",
       "154                             196           Aqueduct Racetrack (A)    217\n",
       "167                             209         Far Rockaway-Mott Av (A)    893"
      ]
     },
     "execution_count": 54,
     "metadata": {},
     "output_type": "execute_result"
    }
   ],
   "source": [
    "columbia_stations_of_interest"
   ]
  }
 ],
 "metadata": {
  "kernelspec": {
   "display_name": "train_data",
   "language": "python",
   "name": "python3"
  },
  "language_info": {
   "codemirror_mode": {
    "name": "ipython",
    "version": 3
   },
   "file_extension": ".py",
   "mimetype": "text/x-python",
   "name": "python",
   "nbconvert_exporter": "python",
   "pygments_lexer": "ipython3",
   "version": "3.13.2"
  }
 },
 "nbformat": 4,
 "nbformat_minor": 2
}
