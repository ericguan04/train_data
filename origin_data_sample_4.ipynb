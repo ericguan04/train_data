{
 "cells": [
  {
   "cell_type": "markdown",
   "metadata": {},
   "source": [
    "# Exploring Hunter, CCNY, Medgar, NYU, and Columbia Origin Data\n",
    "* 2021 - 2024"
   ]
  },
  {
   "cell_type": "markdown",
   "metadata": {},
   "source": [
    "## Load and combine all the datasets"
   ]
  },
  {
   "cell_type": "code",
   "execution_count": 2,
   "metadata": {},
   "outputs": [],
   "source": [
    "import pandas as pd\n",
    "\n",
    "columbia1 = pd.read_csv(\"datasets/columbia/MTA_Subway_Origin-Destination_2021_Columbia_Origin.csv\")\n",
    "columbia2 = pd.read_csv(\"datasets/columbia/MTA_Subway_Origin-Destination_2022_Columbia_Origin.csv\")\n",
    "columbia3 = pd.read_csv(\"datasets/columbia/MTA_Subway_Origin-Destination_2023_Columbia_Origin.csv\")\n",
    "columbia4 = pd.read_csv(\"datasets/columbia/MTA_Subway_Origin-Destination_2024_Columbia_Origin.csv\")\n",
    "columbia_total = pd.concat([columbia1, columbia2, columbia3, columbia4])\n"
   ]
  },
  {
   "cell_type": "code",
   "execution_count": 3,
   "metadata": {},
   "outputs": [],
   "source": [
    "nyu1 = pd.read_csv(\"datasets/nyu/MTA_Subway_Origin-Destination_2021_NYU_Origin.csv\")\n",
    "nyu2 = pd.read_csv(\"datasets/nyu/MTA_Subway_Origin-Destination_2022_NYU_Origin.csv\")\n",
    "nyu3 = pd.read_csv(\"datasets/nyu/MTA_Subway_Origin-Destination_2023_NYU_Origin.csv\")\n",
    "nyu4 = pd.read_csv(\"datasets/nyu/MTA_Subway_Origin-Destination_2024_NYU_Origin.csv\")\n",
    "nyu_total = pd.concat([nyu1, nyu2, nyu3, nyu4])\n"
   ]
  },
  {
   "cell_type": "code",
   "execution_count": 4,
   "metadata": {},
   "outputs": [],
   "source": [
    "hunter1 = pd.read_csv(\"datasets/hunter/MTA_Subway_Origin-Destination_2021_Hunter_Origin.csv\")\n",
    "hunter2 = pd.read_csv(\"datasets/hunter/MTA_Subway_Origin-Destination_2022_Hunter_Origin.csv\")\n",
    "hunter3 = pd.read_csv(\"datasets/hunter/MTA_Subway_Origin-Destination_2023_Hunter_Origin.csv\")\n",
    "hunter4 = pd.read_csv(\"datasets/hunter/MTA_Subway_Origin-Destination_2024_Hunter_Origin.csv\")\n",
    "hunter_total = pd.concat([hunter1, hunter2, hunter3, hunter4])"
   ]
  },
  {
   "cell_type": "code",
   "execution_count": 5,
   "metadata": {},
   "outputs": [],
   "source": [
    "ccny1 = pd.read_csv(\"datasets/ccny/MTA_Subway_Origin-Destination_2021_CCNY_Origin.csv\")\n",
    "ccny2 = pd.read_csv(\"datasets/ccny/MTA_Subway_Origin-Destination_2022_CCNY_Origin.csv\")\n",
    "ccny3 = pd.read_csv(\"datasets/ccny/MTA_Subway_Origin-Destination_2023_CCNY_Origin.csv\")\n",
    "ccny4 = pd.read_csv(\"datasets/ccny/MTA_Subway_Origin-Destination_2024_CCNY_Origin.csv\")\n",
    "ccny_total = pd.concat([ccny1, ccny2, ccny3, ccny4])"
   ]
  },
  {
   "cell_type": "code",
   "execution_count": 6,
   "metadata": {},
   "outputs": [],
   "source": [
    "medgar1 = pd.read_csv(\"datasets/medgar/MTA_Subway_Origin-Destination_2021_Medgar_Origin.csv\")\n",
    "medgar2 = pd.read_csv(\"datasets/medgar/MTA_Subway_Origin-Destination_2022_Medgar_Origin.csv\")\n",
    "medgar3 = pd.read_csv(\"datasets/medgar/MTA_Subway_Origin-Destination_2023_Medgar_Origin.csv\")\n",
    "medgar4 = pd.read_csv(\"datasets/medgar/MTA_Subway_Origin-Destination_2024_Medgar_Origin.csv\")\n",
    "medgar_total = pd.concat([medgar1, medgar2, medgar3, medgar4])"
   ]
  },
  {
   "cell_type": "markdown",
   "metadata": {},
   "source": [
    "## Overall Stations of Interest Results:\n",
    "* With Hunter College as the Origin Station, more people commute to highly enforced stations\n",
    "* However, rates are pretty comparable between CCNY, MedgarEvers, NYU, and Columbia\n",
    "* These are all hours and all days, so may not capture student activity. Next step is to filter by those times and look for comparisons."
   ]
  },
  {
   "cell_type": "code",
   "execution_count": 7,
   "metadata": {},
   "outputs": [],
   "source": [
    "hunter_total_grouped = hunter_total.groupby([\"Destination Station Complex ID\", \"Destination Station Complex Name\"]).size().reset_index(name='Count')\n",
    "nyu_total_grouped = nyu_total.groupby([\"Destination Station Complex ID\", \"Destination Station Complex Name\"]).size().reset_index(name='Count')\n",
    "columbia_total_grouped = columbia_total.groupby([\"Destination Station Complex ID\", \"Destination Station Complex Name\"]).size().reset_index(name='Count')\n",
    "ccny_total_grouped = ccny_total.groupby([\"Destination Station Complex ID\", \"Destination Station Complex Name\"]).size().reset_index(name='Count')\n",
    "medgar_total_grouped = medgar_total.groupby([\"Destination Station Complex ID\", \"Destination Station Complex Name\"]).size().reset_index(name='Count')"
   ]
  },
  {
   "cell_type": "code",
   "execution_count": 8,
   "metadata": {},
   "outputs": [],
   "source": [
    "hunter_stations_of_interest = hunter_total_grouped[(hunter_total_grouped[\"Destination Station Complex ID\"] == 135) | \n",
    "                                                   (hunter_total_grouped[\"Destination Station Complex ID\"] == 209) |\n",
    "                                                   (hunter_total_grouped[\"Destination Station Complex ID\"] == 196)]\n",
    "\n",
    "nyu_stations_of_interest = nyu_total_grouped[(nyu_total_grouped[\"Destination Station Complex ID\"] == 135) | \n",
    "                                             (nyu_total_grouped[\"Destination Station Complex ID\"] == 209) |\n",
    "                                             (nyu_total_grouped[\"Destination Station Complex ID\"] == 196)]\n",
    "\n",
    "columbia_stations_of_interest = columbia_total_grouped[(columbia_total_grouped[\"Destination Station Complex ID\"] == 135) | \n",
    "                                                       (columbia_total_grouped[\"Destination Station Complex ID\"] == 209) |\n",
    "                                                       (columbia_total_grouped[\"Destination Station Complex ID\"] == 196)]\n",
    "\n",
    "ccny_stations_of_interest = ccny_total_grouped[(ccny_total_grouped[\"Destination Station Complex ID\"] == 135) | \n",
    "                                               (ccny_total_grouped[\"Destination Station Complex ID\"] == 209) |\n",
    "                                               (ccny_total_grouped[\"Destination Station Complex ID\"] == 196)]\n",
    "\n",
    "medgar_stations_of_interest = medgar_total_grouped[(medgar_total_grouped[\"Destination Station Complex ID\"] == 135) | \n",
    "                                                   (medgar_total_grouped[\"Destination Station Complex ID\"] == 209) |\n",
    "                                                   (medgar_total_grouped[\"Destination Station Complex ID\"] == 196)]"
   ]
  },
  {
   "cell_type": "code",
   "execution_count": 9,
   "metadata": {},
   "outputs": [
    {
     "data": {
      "text/html": [
       "<div>\n",
       "<style scoped>\n",
       "    .dataframe tbody tr th:only-of-type {\n",
       "        vertical-align: middle;\n",
       "    }\n",
       "\n",
       "    .dataframe tbody tr th {\n",
       "        vertical-align: top;\n",
       "    }\n",
       "\n",
       "    .dataframe thead th {\n",
       "        text-align: right;\n",
       "    }\n",
       "</style>\n",
       "<table border=\"1\" class=\"dataframe\">\n",
       "  <thead>\n",
       "    <tr style=\"text-align: right;\">\n",
       "      <th></th>\n",
       "      <th>Destination Station Complex ID</th>\n",
       "      <th>Destination Station Complex Name</th>\n",
       "      <th>Count</th>\n",
       "    </tr>\n",
       "  </thead>\n",
       "  <tbody>\n",
       "    <tr>\n",
       "      <th>107</th>\n",
       "      <td>135</td>\n",
       "      <td>Livonia Av (L)</td>\n",
       "      <td>1928</td>\n",
       "    </tr>\n",
       "    <tr>\n",
       "      <th>155</th>\n",
       "      <td>196</td>\n",
       "      <td>Aqueduct Racetrack (A)</td>\n",
       "      <td>695</td>\n",
       "    </tr>\n",
       "    <tr>\n",
       "      <th>168</th>\n",
       "      <td>209</td>\n",
       "      <td>Far Rockaway-Mott Av (A)</td>\n",
       "      <td>2415</td>\n",
       "    </tr>\n",
       "  </tbody>\n",
       "</table>\n",
       "</div>"
      ],
      "text/plain": [
       "     Destination Station Complex ID Destination Station Complex Name  Count\n",
       "107                             135                   Livonia Av (L)   1928\n",
       "155                             196           Aqueduct Racetrack (A)    695\n",
       "168                             209         Far Rockaway-Mott Av (A)   2415"
      ]
     },
     "execution_count": 9,
     "metadata": {},
     "output_type": "execute_result"
    }
   ],
   "source": [
    "hunter_stations_of_interest"
   ]
  },
  {
   "cell_type": "code",
   "execution_count": 10,
   "metadata": {},
   "outputs": [
    {
     "data": {
      "text/html": [
       "<div>\n",
       "<style scoped>\n",
       "    .dataframe tbody tr th:only-of-type {\n",
       "        vertical-align: middle;\n",
       "    }\n",
       "\n",
       "    .dataframe tbody tr th {\n",
       "        vertical-align: top;\n",
       "    }\n",
       "\n",
       "    .dataframe thead th {\n",
       "        text-align: right;\n",
       "    }\n",
       "</style>\n",
       "<table border=\"1\" class=\"dataframe\">\n",
       "  <thead>\n",
       "    <tr style=\"text-align: right;\">\n",
       "      <th></th>\n",
       "      <th>Destination Station Complex ID</th>\n",
       "      <th>Destination Station Complex Name</th>\n",
       "      <th>Count</th>\n",
       "    </tr>\n",
       "  </thead>\n",
       "  <tbody>\n",
       "    <tr>\n",
       "      <th>107</th>\n",
       "      <td>135</td>\n",
       "      <td>Livonia Av (L)</td>\n",
       "      <td>512</td>\n",
       "    </tr>\n",
       "    <tr>\n",
       "      <th>154</th>\n",
       "      <td>196</td>\n",
       "      <td>Aqueduct Racetrack (A)</td>\n",
       "      <td>392</td>\n",
       "    </tr>\n",
       "    <tr>\n",
       "      <th>167</th>\n",
       "      <td>209</td>\n",
       "      <td>Far Rockaway-Mott Av (A)</td>\n",
       "      <td>830</td>\n",
       "    </tr>\n",
       "  </tbody>\n",
       "</table>\n",
       "</div>"
      ],
      "text/plain": [
       "     Destination Station Complex ID Destination Station Complex Name  Count\n",
       "107                             135                   Livonia Av (L)    512\n",
       "154                             196           Aqueduct Racetrack (A)    392\n",
       "167                             209         Far Rockaway-Mott Av (A)    830"
      ]
     },
     "execution_count": 10,
     "metadata": {},
     "output_type": "execute_result"
    }
   ],
   "source": [
    "ccny_stations_of_interest"
   ]
  },
  {
   "cell_type": "code",
   "execution_count": 11,
   "metadata": {},
   "outputs": [
    {
     "data": {
      "text/html": [
       "<div>\n",
       "<style scoped>\n",
       "    .dataframe tbody tr th:only-of-type {\n",
       "        vertical-align: middle;\n",
       "    }\n",
       "\n",
       "    .dataframe tbody tr th {\n",
       "        vertical-align: top;\n",
       "    }\n",
       "\n",
       "    .dataframe thead th {\n",
       "        text-align: right;\n",
       "    }\n",
       "</style>\n",
       "<table border=\"1\" class=\"dataframe\">\n",
       "  <thead>\n",
       "    <tr style=\"text-align: right;\">\n",
       "      <th></th>\n",
       "      <th>Destination Station Complex ID</th>\n",
       "      <th>Destination Station Complex Name</th>\n",
       "      <th>Count</th>\n",
       "    </tr>\n",
       "  </thead>\n",
       "  <tbody>\n",
       "    <tr>\n",
       "      <th>107</th>\n",
       "      <td>135</td>\n",
       "      <td>Livonia Av (L)</td>\n",
       "      <td>553</td>\n",
       "    </tr>\n",
       "    <tr>\n",
       "      <th>154</th>\n",
       "      <td>196</td>\n",
       "      <td>Aqueduct Racetrack (A)</td>\n",
       "      <td>151</td>\n",
       "    </tr>\n",
       "    <tr>\n",
       "      <th>167</th>\n",
       "      <td>209</td>\n",
       "      <td>Far Rockaway-Mott Av (A)</td>\n",
       "      <td>526</td>\n",
       "    </tr>\n",
       "  </tbody>\n",
       "</table>\n",
       "</div>"
      ],
      "text/plain": [
       "     Destination Station Complex ID Destination Station Complex Name  Count\n",
       "107                             135                   Livonia Av (L)    553\n",
       "154                             196           Aqueduct Racetrack (A)    151\n",
       "167                             209         Far Rockaway-Mott Av (A)    526"
      ]
     },
     "execution_count": 11,
     "metadata": {},
     "output_type": "execute_result"
    }
   ],
   "source": [
    "medgar_stations_of_interest"
   ]
  },
  {
   "cell_type": "code",
   "execution_count": 12,
   "metadata": {},
   "outputs": [
    {
     "data": {
      "text/html": [
       "<div>\n",
       "<style scoped>\n",
       "    .dataframe tbody tr th:only-of-type {\n",
       "        vertical-align: middle;\n",
       "    }\n",
       "\n",
       "    .dataframe tbody tr th {\n",
       "        vertical-align: top;\n",
       "    }\n",
       "\n",
       "    .dataframe thead th {\n",
       "        text-align: right;\n",
       "    }\n",
       "</style>\n",
       "<table border=\"1\" class=\"dataframe\">\n",
       "  <thead>\n",
       "    <tr style=\"text-align: right;\">\n",
       "      <th></th>\n",
       "      <th>Destination Station Complex ID</th>\n",
       "      <th>Destination Station Complex Name</th>\n",
       "      <th>Count</th>\n",
       "    </tr>\n",
       "  </thead>\n",
       "  <tbody>\n",
       "    <tr>\n",
       "      <th>106</th>\n",
       "      <td>135</td>\n",
       "      <td>Livonia Av (L)</td>\n",
       "      <td>694</td>\n",
       "    </tr>\n",
       "    <tr>\n",
       "      <th>154</th>\n",
       "      <td>196</td>\n",
       "      <td>Aqueduct Racetrack (A)</td>\n",
       "      <td>171</td>\n",
       "    </tr>\n",
       "    <tr>\n",
       "      <th>167</th>\n",
       "      <td>209</td>\n",
       "      <td>Far Rockaway-Mott Av (A)</td>\n",
       "      <td>631</td>\n",
       "    </tr>\n",
       "  </tbody>\n",
       "</table>\n",
       "</div>"
      ],
      "text/plain": [
       "     Destination Station Complex ID Destination Station Complex Name  Count\n",
       "106                             135                   Livonia Av (L)    694\n",
       "154                             196           Aqueduct Racetrack (A)    171\n",
       "167                             209         Far Rockaway-Mott Av (A)    631"
      ]
     },
     "execution_count": 12,
     "metadata": {},
     "output_type": "execute_result"
    }
   ],
   "source": [
    "nyu_stations_of_interest"
   ]
  },
  {
   "cell_type": "code",
   "execution_count": 13,
   "metadata": {},
   "outputs": [
    {
     "data": {
      "text/html": [
       "<div>\n",
       "<style scoped>\n",
       "    .dataframe tbody tr th:only-of-type {\n",
       "        vertical-align: middle;\n",
       "    }\n",
       "\n",
       "    .dataframe tbody tr th {\n",
       "        vertical-align: top;\n",
       "    }\n",
       "\n",
       "    .dataframe thead th {\n",
       "        text-align: right;\n",
       "    }\n",
       "</style>\n",
       "<table border=\"1\" class=\"dataframe\">\n",
       "  <thead>\n",
       "    <tr style=\"text-align: right;\">\n",
       "      <th></th>\n",
       "      <th>Destination Station Complex ID</th>\n",
       "      <th>Destination Station Complex Name</th>\n",
       "      <th>Count</th>\n",
       "    </tr>\n",
       "  </thead>\n",
       "  <tbody>\n",
       "    <tr>\n",
       "      <th>107</th>\n",
       "      <td>135</td>\n",
       "      <td>Livonia Av (L)</td>\n",
       "      <td>579</td>\n",
       "    </tr>\n",
       "    <tr>\n",
       "      <th>154</th>\n",
       "      <td>196</td>\n",
       "      <td>Aqueduct Racetrack (A)</td>\n",
       "      <td>217</td>\n",
       "    </tr>\n",
       "    <tr>\n",
       "      <th>167</th>\n",
       "      <td>209</td>\n",
       "      <td>Far Rockaway-Mott Av (A)</td>\n",
       "      <td>893</td>\n",
       "    </tr>\n",
       "  </tbody>\n",
       "</table>\n",
       "</div>"
      ],
      "text/plain": [
       "     Destination Station Complex ID Destination Station Complex Name  Count\n",
       "107                             135                   Livonia Av (L)    579\n",
       "154                             196           Aqueduct Racetrack (A)    217\n",
       "167                             209         Far Rockaway-Mott Av (A)    893"
      ]
     },
     "execution_count": 13,
     "metadata": {},
     "output_type": "execute_result"
    }
   ],
   "source": [
    "columbia_stations_of_interest"
   ]
  },
  {
   "cell_type": "markdown",
   "metadata": {},
   "source": [
    "## Filter by time and days - Hunter College 2021 - 2024\n",
    "* 2-4 PM - usually students commute home at this time\n",
    "* Mon - Fri - usually school days\n",
    "* Results of the number of people commuting form Hunter to these highly enforced stations during these times are detailed below"
   ]
  },
  {
   "cell_type": "code",
   "execution_count": 14,
   "metadata": {},
   "outputs": [],
   "source": [
    "# filter the dataset for Monday - Friday\n",
    "hunter_total_filtered = hunter_total[(hunter_total[\"Day of Week\"] != \"Saturday\") & (hunter_total[\"Day of Week\"] != \"Sunday\")]\n",
    "\n",
    "# filter the dataset for 2-4PM\n",
    "hunter_total_filtered = hunter_total_filtered[(hunter_total_filtered[\"Hour of Day\"] >= 14) & (hunter_total_filtered[\"Hour of Day\"] <= 16)]"
   ]
  },
  {
   "cell_type": "code",
   "execution_count": 15,
   "metadata": {},
   "outputs": [
    {
     "name": "stdout",
     "output_type": "stream",
     "text": [
      "Day of Week['Monday' 'Tuesday' 'Wednesday' 'Thursday' 'Friday']\n",
      "Hour of Day[14 15 16]\n"
     ]
    }
   ],
   "source": [
    "print(f\"Day of Week{hunter_total_filtered[\"Day of Week\"].unique()}\")\n",
    "print(f\"Hour of Day{hunter_total_filtered[\"Hour of Day\"].unique()}\")"
   ]
  },
  {
   "cell_type": "code",
   "execution_count": 16,
   "metadata": {},
   "outputs": [],
   "source": [
    "# group the data by destination station\n",
    "hunter_total_filtered_group = hunter_total_filtered.groupby([\"Destination Station Complex ID\", \"Destination Station Complex Name\"]).size().reset_index(name='Count')\n",
    "\n",
    "hunter_stations_of_interest_filtered = hunter_total_filtered_group[(hunter_total_filtered_group[\"Destination Station Complex ID\"] == 135) | \n",
    "                                                                   (hunter_total_filtered_group[\"Destination Station Complex ID\"] == 209) |\n",
    "                                                                   (hunter_total_filtered_group[\"Destination Station Complex ID\"] == 196)]"
   ]
  },
  {
   "cell_type": "code",
   "execution_count": 17,
   "metadata": {},
   "outputs": [
    {
     "data": {
      "text/html": [
       "<div>\n",
       "<style scoped>\n",
       "    .dataframe tbody tr th:only-of-type {\n",
       "        vertical-align: middle;\n",
       "    }\n",
       "\n",
       "    .dataframe tbody tr th {\n",
       "        vertical-align: top;\n",
       "    }\n",
       "\n",
       "    .dataframe thead th {\n",
       "        text-align: right;\n",
       "    }\n",
       "</style>\n",
       "<table border=\"1\" class=\"dataframe\">\n",
       "  <thead>\n",
       "    <tr style=\"text-align: right;\">\n",
       "      <th></th>\n",
       "      <th>Destination Station Complex ID</th>\n",
       "      <th>Destination Station Complex Name</th>\n",
       "      <th>Count</th>\n",
       "    </tr>\n",
       "  </thead>\n",
       "  <tbody>\n",
       "    <tr>\n",
       "      <th>107</th>\n",
       "      <td>135</td>\n",
       "      <td>Livonia Av (L)</td>\n",
       "      <td>509</td>\n",
       "    </tr>\n",
       "    <tr>\n",
       "      <th>155</th>\n",
       "      <td>196</td>\n",
       "      <td>Aqueduct Racetrack (A)</td>\n",
       "      <td>234</td>\n",
       "    </tr>\n",
       "    <tr>\n",
       "      <th>168</th>\n",
       "      <td>209</td>\n",
       "      <td>Far Rockaway-Mott Av (A)</td>\n",
       "      <td>678</td>\n",
       "    </tr>\n",
       "  </tbody>\n",
       "</table>\n",
       "</div>"
      ],
      "text/plain": [
       "     Destination Station Complex ID Destination Station Complex Name  Count\n",
       "107                             135                   Livonia Av (L)    509\n",
       "155                             196           Aqueduct Racetrack (A)    234\n",
       "168                             209         Far Rockaway-Mott Av (A)    678"
      ]
     },
     "execution_count": 17,
     "metadata": {},
     "output_type": "execute_result"
    }
   ],
   "source": [
    "hunter_stations_of_interest_filtered"
   ]
  },
  {
   "cell_type": "markdown",
   "metadata": {},
   "source": [
    "## Filtered Stations of Interest Results"
   ]
  },
  {
   "cell_type": "code",
   "execution_count": 18,
   "metadata": {},
   "outputs": [],
   "source": [
    "# filter all datasets for Monday - Friday\n",
    "hunter_total_filtered = hunter_total[(hunter_total[\"Day of Week\"] != \"Saturday\") & (hunter_total[\"Day of Week\"] != \"Sunday\")]\n",
    "nyu_total_filtered = nyu_total[(nyu_total[\"Day of Week\"] != \"Saturday\") & (nyu_total[\"Day of Week\"] != \"Sunday\")]\n",
    "columbia_total_filtered = columbia_total[(columbia_total[\"Day of Week\"] != \"Saturday\") & (columbia_total[\"Day of Week\"] != \"Sunday\")]\n",
    "ccny_total_filtered = ccny_total[(ccny_total[\"Day of Week\"] != \"Saturday\") & (ccny_total[\"Day of Week\"] != \"Sunday\")]\n",
    "medgar_total_filtered = medgar_total[(medgar_total[\"Day of Week\"] != \"Saturday\") & (medgar_total[\"Day of Week\"] != \"Sunday\")]\n",
    "\n",
    "# filter all datasets for 2-4PM\n",
    "hunter_total_filtered = hunter_total_filtered[(hunter_total_filtered[\"Hour of Day\"] >= 14) & (hunter_total_filtered[\"Hour of Day\"] <= 16)]\n",
    "nyu_total_filtered = nyu_total_filtered[(nyu_total_filtered[\"Hour of Day\"] >= 14) & (nyu_total_filtered[\"Hour of Day\"] <= 16)]\n",
    "columbia_total_filtered = columbia_total_filtered[(columbia_total_filtered[\"Hour of Day\"] >= 14) & (columbia_total_filtered[\"Hour of Day\"] <= 16)]\n",
    "ccny_total_filtered = ccny_total_filtered[(ccny_total_filtered[\"Hour of Day\"] >= 14) & (ccny_total_filtered[\"Hour of Day\"] <= 16)]\n",
    "medgar_total_filtered = medgar_total_filtered[(medgar_total_filtered[\"Hour of Day\"] >= 14) & (medgar_total_filtered[\"Hour of Day\"] <= 16)]"
   ]
  },
  {
   "cell_type": "code",
   "execution_count": 19,
   "metadata": {},
   "outputs": [],
   "source": [
    "# group the data by destination station\n",
    "hunter_total_filtered_group = hunter_total_filtered.groupby([\"Destination Station Complex ID\", \"Destination Station Complex Name\"]).size().reset_index(name='Count')\n",
    "hunter_stations_of_interest_filtered = hunter_total_filtered_group[(hunter_total_filtered_group[\"Destination Station Complex ID\"] == 135) | \n",
    "                                                                   (hunter_total_filtered_group[\"Destination Station Complex ID\"] == 209) |\n",
    "                                                                   (hunter_total_filtered_group[\"Destination Station Complex ID\"] == 196)]\n",
    "\n",
    "nyu_total_filtered_group = nyu_total_filtered.groupby([\"Destination Station Complex ID\", \"Destination Station Complex Name\"]).size().reset_index(name='Count')\n",
    "nyu_stations_of_interest_filtered = nyu_total_filtered_group[(nyu_total_filtered_group[\"Destination Station Complex ID\"] == 135) | \n",
    "                                                             (nyu_total_filtered_group[\"Destination Station Complex ID\"] == 209) |\n",
    "                                                             (nyu_total_filtered_group[\"Destination Station Complex ID\"] == 196)]\n",
    "\n",
    "columbia_total_filtered_group = columbia_total_filtered.groupby([\"Destination Station Complex ID\", \"Destination Station Complex Name\"]).size().reset_index(name='Count')\n",
    "columbia_stations_of_interest_filtered = columbia_total_filtered_group[(columbia_total_filtered_group[\"Destination Station Complex ID\"] == 135) | \n",
    "                                                                       (columbia_total_filtered_group[\"Destination Station Complex ID\"] == 209) |\n",
    "                                                                       (columbia_total_filtered_group[\"Destination Station Complex ID\"] == 196)]\n",
    "\n",
    "ccny_total_filtered_group = ccny_total_filtered.groupby([\"Destination Station Complex ID\", \"Destination Station Complex Name\"]).size().reset_index(name='Count')\n",
    "ccny_stations_of_interest_filtered = ccny_total_filtered_group[(ccny_total_filtered_group[\"Destination Station Complex ID\"] == 135) | \n",
    "                                                               (ccny_total_filtered_group[\"Destination Station Complex ID\"] == 209) |\n",
    "                                                               (ccny_total_filtered_group[\"Destination Station Complex ID\"] == 196)]\n",
    "\n",
    "medgar_total_filtered_group = medgar_total_filtered.groupby([\"Destination Station Complex ID\", \"Destination Station Complex Name\"]).size().reset_index(name='Count')\n",
    "medgar_stations_of_interest_filtered = medgar_total_filtered_group[(medgar_total_filtered_group[\"Destination Station Complex ID\"] == 135) | \n",
    "                                                                   (medgar_total_filtered_group[\"Destination Station Complex ID\"] == 209) |\n",
    "                                                                   (medgar_total_filtered_group[\"Destination Station Complex ID\"] == 196)]"
   ]
  },
  {
   "cell_type": "code",
   "execution_count": 20,
   "metadata": {},
   "outputs": [
    {
     "data": {
      "text/html": [
       "<div>\n",
       "<style scoped>\n",
       "    .dataframe tbody tr th:only-of-type {\n",
       "        vertical-align: middle;\n",
       "    }\n",
       "\n",
       "    .dataframe tbody tr th {\n",
       "        vertical-align: top;\n",
       "    }\n",
       "\n",
       "    .dataframe thead th {\n",
       "        text-align: right;\n",
       "    }\n",
       "</style>\n",
       "<table border=\"1\" class=\"dataframe\">\n",
       "  <thead>\n",
       "    <tr style=\"text-align: right;\">\n",
       "      <th></th>\n",
       "      <th>Destination Station Complex ID</th>\n",
       "      <th>Destination Station Complex Name</th>\n",
       "      <th>Count</th>\n",
       "    </tr>\n",
       "  </thead>\n",
       "  <tbody>\n",
       "    <tr>\n",
       "      <th>107</th>\n",
       "      <td>135</td>\n",
       "      <td>Livonia Av (L)</td>\n",
       "      <td>509</td>\n",
       "    </tr>\n",
       "    <tr>\n",
       "      <th>155</th>\n",
       "      <td>196</td>\n",
       "      <td>Aqueduct Racetrack (A)</td>\n",
       "      <td>234</td>\n",
       "    </tr>\n",
       "    <tr>\n",
       "      <th>168</th>\n",
       "      <td>209</td>\n",
       "      <td>Far Rockaway-Mott Av (A)</td>\n",
       "      <td>678</td>\n",
       "    </tr>\n",
       "  </tbody>\n",
       "</table>\n",
       "</div>"
      ],
      "text/plain": [
       "     Destination Station Complex ID Destination Station Complex Name  Count\n",
       "107                             135                   Livonia Av (L)    509\n",
       "155                             196           Aqueduct Racetrack (A)    234\n",
       "168                             209         Far Rockaway-Mott Av (A)    678"
      ]
     },
     "execution_count": 20,
     "metadata": {},
     "output_type": "execute_result"
    }
   ],
   "source": [
    "hunter_stations_of_interest_filtered"
   ]
  },
  {
   "cell_type": "code",
   "execution_count": 21,
   "metadata": {},
   "outputs": [
    {
     "data": {
      "text/html": [
       "<div>\n",
       "<style scoped>\n",
       "    .dataframe tbody tr th:only-of-type {\n",
       "        vertical-align: middle;\n",
       "    }\n",
       "\n",
       "    .dataframe tbody tr th {\n",
       "        vertical-align: top;\n",
       "    }\n",
       "\n",
       "    .dataframe thead th {\n",
       "        text-align: right;\n",
       "    }\n",
       "</style>\n",
       "<table border=\"1\" class=\"dataframe\">\n",
       "  <thead>\n",
       "    <tr style=\"text-align: right;\">\n",
       "      <th></th>\n",
       "      <th>Destination Station Complex ID</th>\n",
       "      <th>Destination Station Complex Name</th>\n",
       "      <th>Count</th>\n",
       "    </tr>\n",
       "  </thead>\n",
       "  <tbody>\n",
       "    <tr>\n",
       "      <th>107</th>\n",
       "      <td>135</td>\n",
       "      <td>Livonia Av (L)</td>\n",
       "      <td>84</td>\n",
       "    </tr>\n",
       "    <tr>\n",
       "      <th>154</th>\n",
       "      <td>196</td>\n",
       "      <td>Aqueduct Racetrack (A)</td>\n",
       "      <td>64</td>\n",
       "    </tr>\n",
       "    <tr>\n",
       "      <th>167</th>\n",
       "      <td>209</td>\n",
       "      <td>Far Rockaway-Mott Av (A)</td>\n",
       "      <td>146</td>\n",
       "    </tr>\n",
       "  </tbody>\n",
       "</table>\n",
       "</div>"
      ],
      "text/plain": [
       "     Destination Station Complex ID Destination Station Complex Name  Count\n",
       "107                             135                   Livonia Av (L)     84\n",
       "154                             196           Aqueduct Racetrack (A)     64\n",
       "167                             209         Far Rockaway-Mott Av (A)    146"
      ]
     },
     "execution_count": 21,
     "metadata": {},
     "output_type": "execute_result"
    }
   ],
   "source": [
    "ccny_stations_of_interest_filtered"
   ]
  },
  {
   "cell_type": "code",
   "execution_count": 22,
   "metadata": {},
   "outputs": [
    {
     "data": {
      "text/html": [
       "<div>\n",
       "<style scoped>\n",
       "    .dataframe tbody tr th:only-of-type {\n",
       "        vertical-align: middle;\n",
       "    }\n",
       "\n",
       "    .dataframe tbody tr th {\n",
       "        vertical-align: top;\n",
       "    }\n",
       "\n",
       "    .dataframe thead th {\n",
       "        text-align: right;\n",
       "    }\n",
       "</style>\n",
       "<table border=\"1\" class=\"dataframe\">\n",
       "  <thead>\n",
       "    <tr style=\"text-align: right;\">\n",
       "      <th></th>\n",
       "      <th>Destination Station Complex ID</th>\n",
       "      <th>Destination Station Complex Name</th>\n",
       "      <th>Count</th>\n",
       "    </tr>\n",
       "  </thead>\n",
       "  <tbody>\n",
       "    <tr>\n",
       "      <th>107</th>\n",
       "      <td>135</td>\n",
       "      <td>Livonia Av (L)</td>\n",
       "      <td>128</td>\n",
       "    </tr>\n",
       "    <tr>\n",
       "      <th>154</th>\n",
       "      <td>196</td>\n",
       "      <td>Aqueduct Racetrack (A)</td>\n",
       "      <td>28</td>\n",
       "    </tr>\n",
       "    <tr>\n",
       "      <th>167</th>\n",
       "      <td>209</td>\n",
       "      <td>Far Rockaway-Mott Av (A)</td>\n",
       "      <td>130</td>\n",
       "    </tr>\n",
       "  </tbody>\n",
       "</table>\n",
       "</div>"
      ],
      "text/plain": [
       "     Destination Station Complex ID Destination Station Complex Name  Count\n",
       "107                             135                   Livonia Av (L)    128\n",
       "154                             196           Aqueduct Racetrack (A)     28\n",
       "167                             209         Far Rockaway-Mott Av (A)    130"
      ]
     },
     "execution_count": 22,
     "metadata": {},
     "output_type": "execute_result"
    }
   ],
   "source": [
    "medgar_stations_of_interest_filtered"
   ]
  },
  {
   "cell_type": "code",
   "execution_count": 23,
   "metadata": {},
   "outputs": [
    {
     "data": {
      "text/html": [
       "<div>\n",
       "<style scoped>\n",
       "    .dataframe tbody tr th:only-of-type {\n",
       "        vertical-align: middle;\n",
       "    }\n",
       "\n",
       "    .dataframe tbody tr th {\n",
       "        vertical-align: top;\n",
       "    }\n",
       "\n",
       "    .dataframe thead th {\n",
       "        text-align: right;\n",
       "    }\n",
       "</style>\n",
       "<table border=\"1\" class=\"dataframe\">\n",
       "  <thead>\n",
       "    <tr style=\"text-align: right;\">\n",
       "      <th></th>\n",
       "      <th>Destination Station Complex ID</th>\n",
       "      <th>Destination Station Complex Name</th>\n",
       "      <th>Count</th>\n",
       "    </tr>\n",
       "  </thead>\n",
       "  <tbody>\n",
       "    <tr>\n",
       "      <th>106</th>\n",
       "      <td>135</td>\n",
       "      <td>Livonia Av (L)</td>\n",
       "      <td>138</td>\n",
       "    </tr>\n",
       "    <tr>\n",
       "      <th>154</th>\n",
       "      <td>196</td>\n",
       "      <td>Aqueduct Racetrack (A)</td>\n",
       "      <td>25</td>\n",
       "    </tr>\n",
       "    <tr>\n",
       "      <th>167</th>\n",
       "      <td>209</td>\n",
       "      <td>Far Rockaway-Mott Av (A)</td>\n",
       "      <td>142</td>\n",
       "    </tr>\n",
       "  </tbody>\n",
       "</table>\n",
       "</div>"
      ],
      "text/plain": [
       "     Destination Station Complex ID Destination Station Complex Name  Count\n",
       "106                             135                   Livonia Av (L)    138\n",
       "154                             196           Aqueduct Racetrack (A)     25\n",
       "167                             209         Far Rockaway-Mott Av (A)    142"
      ]
     },
     "execution_count": 23,
     "metadata": {},
     "output_type": "execute_result"
    }
   ],
   "source": [
    "nyu_stations_of_interest_filtered"
   ]
  },
  {
   "cell_type": "code",
   "execution_count": 24,
   "metadata": {},
   "outputs": [
    {
     "data": {
      "text/html": [
       "<div>\n",
       "<style scoped>\n",
       "    .dataframe tbody tr th:only-of-type {\n",
       "        vertical-align: middle;\n",
       "    }\n",
       "\n",
       "    .dataframe tbody tr th {\n",
       "        vertical-align: top;\n",
       "    }\n",
       "\n",
       "    .dataframe thead th {\n",
       "        text-align: right;\n",
       "    }\n",
       "</style>\n",
       "<table border=\"1\" class=\"dataframe\">\n",
       "  <thead>\n",
       "    <tr style=\"text-align: right;\">\n",
       "      <th></th>\n",
       "      <th>Destination Station Complex ID</th>\n",
       "      <th>Destination Station Complex Name</th>\n",
       "      <th>Count</th>\n",
       "    </tr>\n",
       "  </thead>\n",
       "  <tbody>\n",
       "    <tr>\n",
       "      <th>107</th>\n",
       "      <td>135</td>\n",
       "      <td>Livonia Av (L)</td>\n",
       "      <td>129</td>\n",
       "    </tr>\n",
       "    <tr>\n",
       "      <th>154</th>\n",
       "      <td>196</td>\n",
       "      <td>Aqueduct Racetrack (A)</td>\n",
       "      <td>50</td>\n",
       "    </tr>\n",
       "    <tr>\n",
       "      <th>167</th>\n",
       "      <td>209</td>\n",
       "      <td>Far Rockaway-Mott Av (A)</td>\n",
       "      <td>257</td>\n",
       "    </tr>\n",
       "  </tbody>\n",
       "</table>\n",
       "</div>"
      ],
      "text/plain": [
       "     Destination Station Complex ID Destination Station Complex Name  Count\n",
       "107                             135                   Livonia Av (L)    129\n",
       "154                             196           Aqueduct Racetrack (A)     50\n",
       "167                             209         Far Rockaway-Mott Av (A)    257"
      ]
     },
     "execution_count": 24,
     "metadata": {},
     "output_type": "execute_result"
    }
   ],
   "source": [
    "columbia_stations_of_interest_filtered"
   ]
  }
 ],
 "metadata": {
  "kernelspec": {
   "display_name": "train_data",
   "language": "python",
   "name": "python3"
  },
  "language_info": {
   "codemirror_mode": {
    "name": "ipython",
    "version": 3
   },
   "file_extension": ".py",
   "mimetype": "text/x-python",
   "name": "python",
   "nbconvert_exporter": "python",
   "pygments_lexer": "ipython3",
   "version": "3.13.2"
  }
 },
 "nbformat": 4,
 "nbformat_minor": 2
}
