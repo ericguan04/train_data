{
 "cells": [
  {
   "cell_type": "markdown",
   "metadata": {},
   "source": [
    "# Revising Old Code"
   ]
  },
  {
   "cell_type": "code",
   "execution_count": 1,
   "metadata": {},
   "outputs": [],
   "source": [
    "import pandas as pd"
   ]
  },
  {
   "cell_type": "code",
   "execution_count": 2,
   "metadata": {},
   "outputs": [],
   "source": [
    "hunter1 = pd.read_csv(\"datasets/hunter/MTA_Subway_Origin-Destination_2021_Hunter_Origin.csv\")\n",
    "hunter2 = pd.read_csv(\"datasets/hunter/MTA_Subway_Origin-Destination_2022_Hunter_Origin.csv\")\n",
    "hunter3 = pd.read_csv(\"datasets/hunter/MTA_Subway_Origin-Destination_2023_Hunter_Origin.csv\")\n",
    "hunter4 = pd.read_csv(\"datasets/hunter/MTA_Subway_Origin-Destination_2024_Hunter_Origin.csv\")\n",
    "hunter_total = pd.concat([hunter1, hunter2, hunter3, hunter4])"
   ]
  },
  {
   "cell_type": "markdown",
   "metadata": {},
   "source": [
    "## Revising the top stations function with proper aggreagation"
   ]
  },
  {
   "cell_type": "code",
   "execution_count": 6,
   "metadata": {},
   "outputs": [
    {
     "data": {
      "text/plain": [
       "Destination Station Complex Name\n",
       "Grand Central-42 St (S,4,5,6,7)                     117718.4568\n",
       "86 St (4,5,6)                                        30781.2488\n",
       "Lexington Av-53 St (E,M)/51 St (6)                   30359.9718\n",
       "14 St-Union Sq (L,N,Q,R,W,4,5,6)                     29211.7772\n",
       "Times Sq-42 St (N,Q,R,W,S,1,2,3,7)/42 St (A,C,E)     26048.0097\n",
       "23 St (6)                                            23284.7302\n",
       "Fulton St (A,C,J,Z,2,3,4,5)                          22536.1408\n",
       "33 St (6)                                            21584.3288\n",
       "125 St (4,5,6)                                       21394.5491\n",
       "Flushing-Main St (7)                                 20587.9163\n",
       "Name: Estimated Average Ridership, dtype: float64"
      ]
     },
     "execution_count": 6,
     "metadata": {},
     "output_type": "execute_result"
    }
   ],
   "source": [
    "hunter4.groupby(\"Destination Station Complex Name\")[\"Estimated Average Ridership\"].sum().sort_values(ascending=False).head(10)"
   ]
  },
  {
   "cell_type": "code",
   "execution_count": 7,
   "metadata": {},
   "outputs": [],
   "source": [
    "# Function to get the top station origins\n",
    "def top_station_destinations(ridership_df, top_n=5):\n",
    "    top_destinations = ridership_df.groupby(\"Destination Station Complex Name\")[\"Estimated Average Ridership\"].sum().sort_values(ascending=False).head(top_n)\n",
    "    return top_destinations"
   ]
  },
  {
   "cell_type": "code",
   "execution_count": 8,
   "metadata": {},
   "outputs": [
    {
     "data": {
      "text/plain": [
       "Destination Station Complex Name\n",
       "Grand Central-42 St (S,4,5,6,7)                     316178.8279\n",
       "86 St (4,5,6)                                        94327.7467\n",
       "14 St-Union Sq (L,N,Q,R,W,4,5,6)                     92800.2083\n",
       "Lexington Av-53 St (E,M)/51 St (6)                   85145.9988\n",
       "Times Sq-42 St (N,Q,R,W,S,1,2,3,7)/42 St (A,C,E)     80553.0216\n",
       "23 St (6)                                            73044.1285\n",
       "Flushing-Main St (7)                                 70558.3883\n",
       "Parkchester (6)                                      69257.7682\n",
       "33 St (6)                                            67043.1571\n",
       "Fulton St (A,C,J,Z,2,3,4,5)                          66720.8196\n",
       "Name: Estimated Average Ridership, dtype: float64"
      ]
     },
     "execution_count": 8,
     "metadata": {},
     "output_type": "execute_result"
    }
   ],
   "source": [
    "top_station_destinations(hunter_total, 10)"
   ]
  }
 ],
 "metadata": {
  "kernelspec": {
   "display_name": "train_data",
   "language": "python",
   "name": "python3"
  },
  "language_info": {
   "codemirror_mode": {
    "name": "ipython",
    "version": 3
   },
   "file_extension": ".py",
   "mimetype": "text/x-python",
   "name": "python",
   "nbconvert_exporter": "python",
   "pygments_lexer": "ipython3",
   "version": "3.13.2"
  }
 },
 "nbformat": 4,
 "nbformat_minor": 2
}
